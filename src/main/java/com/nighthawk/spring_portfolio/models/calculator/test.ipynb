{
 "cells": [
  {
   "cell_type": "code",
   "execution_count": 6,
   "metadata": {
    "vscode": {
     "languageId": "java"
    }
   },
   "outputs": [
    {
     "name": "stdout",
     "output_type": "stream",
     "text": [
      "1\n",
      "2\n",
      "3\n",
      "5\n",
      "6\n",
      "785\n",
      "23\n"
     ]
    }
   ],
   "source": [
    "String input = \"1+2+3/5/6*785-23\";\n",
    "String[] parsedInput = input.split(\"[+\\\\-\\\\*/]\");\n",
    "\n",
    "for (String t : parsedInput)\n",
    "  System.out.println(t);\n"
   ]
  }
 ],
 "metadata": {
  "kernelspec": {
   "display_name": "Java",
   "language": "java",
   "name": "java"
  },
  "language_info": {
   "codemirror_mode": "java",
   "file_extension": ".jshell",
   "mimetype": "text/x-java-source",
   "name": "Java",
   "pygments_lexer": "java",
   "version": "18.0.1.1+2-6"
  },
  "orig_nbformat": 4
 },
 "nbformat": 4,
 "nbformat_minor": 2
}
